{
  "nbformat": 4,
  "nbformat_minor": 0,
  "metadata": {
    "kernelspec": {
      "display_name": "Python 3",
      "language": "python",
      "name": "python3"
    },
    "language_info": {
      "codemirror_mode": {
        "name": "ipython",
        "version": 3
      },
      "file_extension": ".py",
      "mimetype": "text/x-python",
      "name": "python",
      "nbconvert_exporter": "python",
      "pygments_lexer": "ipython3",
      "version": "3.7.4-final"
    },
    "colab": {
      "name": "Revisi GA_MF Tournament.ipynb",
      "provenance": [],
      "collapsed_sections": []
    },
    "accelerator": "GPU"
  },
  "cells": [
    {
      "cell_type": "markdown",
      "metadata": {
        "id": "5f6mVI5AenuM"
      },
      "source": [
        "### Genetic Algorithm"
      ]
    },
    {
      "cell_type": "code",
      "metadata": {
        "id": "neoxLdKZenuO"
      },
      "source": [
        "import numpy as np\n",
        "import matplotlib.pyplot as plt\n",
        "import math\n",
        "import copy\n",
        "import random"
      ],
      "execution_count": 1,
      "outputs": []
    },
    {
      "cell_type": "code",
      "metadata": {
        "id": "oy2x3DdbenuX"
      },
      "source": [
        "uk_populasi = 20\n",
        "uktour = 5\n",
        "ukkrom = 10\n",
        "pc = 0.76\n",
        "pm = 0.31"
      ],
      "execution_count": 2,
      "outputs": []
    },
    {
      "cell_type": "markdown",
      "metadata": {
        "id": "3RoojYdIenug"
      },
      "source": [
        "**Inisiasi Populasi Awal**"
      ]
    },
    {
      "cell_type": "code",
      "metadata": {
        "id": "u8K1ZwWOenuh"
      },
      "source": [
        "def generatePopulasi(uk_pop, uk_krom):\n",
        "    pop = []\n",
        "    for i in range(uk_pop):\n",
        "        pop.append([random.randint(0,9) for i in range(uk_krom)])\n",
        "    return pop"
      ],
      "execution_count": 3,
      "outputs": []
    },
    {
      "cell_type": "markdown",
      "metadata": {
        "id": "fNcprspVTnIP"
      },
      "source": [
        "**Decode**"
      ]
    },
    {
      "cell_type": "code",
      "metadata": {
        "id": "ZH_KSyiJenun"
      },
      "source": [
        "def phenotype(krom):\n",
        "    x_x1 = 0\n",
        "    d_x1 = 0\n",
        "    x_x2 = 0\n",
        "    d_x2 = 0\n",
        "\n",
        "    j = 1\n",
        "    k = 1\n",
        "    for i in range (len(krom)):\n",
        "        if (i < (len(krom) / 2)):\n",
        "            x_x1 += (krom[i] * (1 / np.power(10,j)))\n",
        "            d_x1 += (9 / np.power(10,j))\n",
        "            j+=1\n",
        "        else:\n",
        "            x_x2 += (krom[i] * (1 / np.power(10,k)))\n",
        "            d_x2 += (9/ np.power(10,k))\n",
        "            k+=1\n",
        "    x1 = -1 + (3 * x_x1 / d_x1) #phenotype x1\n",
        "    x2 = -1 + (2 * x_x2 / d_x2) #phenotype x2\n",
        "\n",
        "    return [x1,x2]"
      ],
      "execution_count": 4,
      "outputs": []
    },
    {
      "cell_type": "markdown",
      "metadata": {
        "id": "I7Wk9SJAXCom"
      },
      "source": [
        "**Hitung Fitness**"
      ]
    },
    {
      "cell_type": "code",
      "metadata": {
        "id": "R8TS9V9jenuw"
      },
      "source": [
        "def hitungFitness(krom):\n",
        "    k = phenotype(krom)\n",
        "    f = -(math.cos(k[0]) * math.sin(k[1]) - (k[0]/((k[1])**2 + 1)))\n",
        "    return f"
      ],
      "execution_count": 5,
      "outputs": []
    },
    {
      "cell_type": "code",
      "metadata": {
        "id": "zYvEyuI4LlPc"
      },
      "source": [
        "def hitungFitnessAll(pop):\n",
        "    fit_all = []    \n",
        "    for i in range(len(pop)):\n",
        "        fit_all.append(hitungFitness(pop[i]))\n",
        "    return fit_all"
      ],
      "execution_count": 6,
      "outputs": []
    },
    {
      "cell_type": "markdown",
      "metadata": {
        "id": "lfcdk3FLenuy"
      },
      "source": [
        "**Parent Selection**\n",
        "\n",
        "disini saya akan menggunakan Tournament"
      ]
    },
    {
      "cell_type": "code",
      "metadata": {
        "id": "IZAmS5Pcenu0"
      },
      "source": [
        "def tournamentSelection(pop, uk_tour):\n",
        "    best_krom = []\n",
        "    for i in range(1, uk_tour):\n",
        "        krom = pop[random.randint(0,len(pop)-1)]\n",
        "        if (best_krom == [] or hitungFitness(krom) > hitungFitness(best_krom)):\n",
        "            best_krom = krom\n",
        "    return best_krom"
      ],
      "execution_count": 7,
      "outputs": []
    },
    {
      "cell_type": "markdown",
      "metadata": {
        "id": "a-tTrMeqenu2"
      },
      "source": [
        "**Crossover**"
      ]
    },
    {
      "cell_type": "code",
      "metadata": {
        "id": "01YTsJneenu2"
      },
      "source": [
        "def crossover(par1, par2, pc, ukrom):\n",
        "    r = random.random()\n",
        "    if (r < pc):\n",
        "        point = random.randint(0,ukrom-1)\n",
        "        for i in range(point):\n",
        "            temp1 = par2[i]\n",
        "            temp2 = par1[i]\n",
        "            par1[i] = temp1\n",
        "            par2[i] = temp2\n",
        "    return par1, par2"
      ],
      "execution_count": 8,
      "outputs": []
    },
    {
      "cell_type": "markdown",
      "metadata": {
        "id": "lY6FfgHAenu3"
      },
      "source": [
        "**Mutasi**\n",
        "\n",
        "melakukan mutasi apabila nilai random lebih kecil dari probabilitas mutasi"
      ]
    },
    {
      "cell_type": "code",
      "metadata": {
        "id": "jgvVQJEqE2bj"
      },
      "source": [
        "def mutasi(par1, par2, pm, uk_krom):\n",
        "    r = random.random()\n",
        "    if (r < pm):\n",
        "        par1[random.randint(0,uk_krom-1)] = random.randint(0,9)\n",
        "        par2[random.randint(0,uk_krom-1)] = random.randint(0,9)\n",
        "    return par1, par2"
      ],
      "execution_count": 9,
      "outputs": []
    },
    {
      "cell_type": "markdown",
      "metadata": {
        "id": "4TqDqJGXenu6"
      },
      "source": [
        "**Pergantian Generasi**\n",
        "\n",
        "berdasarkan fitness"
      ]
    },
    {
      "cell_type": "code",
      "metadata": {
        "id": "SC0yRTWTenu6"
      },
      "source": [
        "def getElitisme(fit_all):\n",
        "    return fit_all.index(max(fit_all))"
      ],
      "execution_count": 10,
      "outputs": []
    },
    {
      "cell_type": "markdown",
      "metadata": {
        "id": "3f5zetA7enu7"
      },
      "source": [
        "***Main Program***"
      ]
    },
    {
      "cell_type": "code",
      "metadata": {
        "tags": [],
        "id": "HxhLAUFUenu8",
        "outputId": "77ceff6f-847d-449e-c1c6-aa8dda0757c0",
        "colab": {
          "base_uri": "https://localhost:8080/",
          "height": 415
        }
      },
      "source": [
        "populasi = generatePopulasi(uk_populasi, ukkrom)\n",
        "fit = []\n",
        "generasi = 100\n",
        "\n",
        "for i in range(generasi):\n",
        "    fitness = hitungFitnessAll(populasi)\n",
        "    new_populasi = []\n",
        "\n",
        "    best = getElitisme(fitness)\n",
        "    fit.append(hitungFitness(populasi[best]))\n",
        "    new_populasi.append(populasi[best])\n",
        "    new_populasi.append(populasi[best])\n",
        "    i = 0\n",
        "    while (i < uk_populasi-2):\n",
        "        parent1 = tournamentSelection(populasi, uktour)\n",
        "        parent2 = tournamentSelection(populasi, uktour)\n",
        "        while (parent1 == parent2):\n",
        "            parent2 = tournamentSelection(populasi, uktour)\n",
        "        par1, par2 = copy.deepcopy(parent1), copy.deepcopy(parent2)\n",
        "        child = crossover(par1, par2, pc, ukkrom)\n",
        "        child = mutasi(child[0], child[1], pm, ukkrom)\n",
        "        new_populasi += child\n",
        "        i += 2\n",
        "    populasi = new_populasi\n",
        "\n",
        "fitness = hitungFitnessAll(populasi)\n",
        "result = getElitisme(fitness)\n",
        "\n",
        "print('Result')\n",
        "print()\n",
        "print('Best Chromosom/Induvidu  = ', populasi[result])\n",
        "print('Best Fitness             = ', hitungFitness(populasi[result]))\n",
        "print('Decode Result            = ', phenotype(populasi[result]))\n",
        "plt.plot(fit)\n",
        "plt.suptitle(\"Generasi Fitness\", size=18)\n",
        "plt.xlabel('Generasi', fontsize=16)\n",
        "plt.ylabel('Fitness', fontsize=16)\n",
        "plt.show"
      ],
      "execution_count": 11,
      "outputs": [
        {
          "output_type": "stream",
          "text": [
            "Result\n",
            "\n",
            "Best Chromosom/Induvidu  =  [9, 9, 9, 9, 9, 5, 5, 2, 9, 0]\n",
            "Best Fitness             =  2.0218067819202177\n",
            "Decode Result            =  [2.0, 0.10581105811058111]\n"
          ],
          "name": "stdout"
        },
        {
          "output_type": "execute_result",
          "data": {
            "text/plain": [
              "<function matplotlib.pyplot.show>"
            ]
          },
          "metadata": {
            "tags": []
          },
          "execution_count": 11
        },
        {
          "output_type": "display_data",
          "data": {
            "image/png": "[encoded data removed]",
            "text/plain": [
              "<Figure size 432x288 with 1 Axes>"
            ]
          },
          "metadata": {
            "tags": [],
            "needs_background": "light"
          }
        }
      ]
    },
    {
      "cell_type": "markdown",
      "metadata": {
        "id": "iIhQ0BARUsAp"
      },
      "source": [
        "**Thank You**"
      ]
    }
  ]
}