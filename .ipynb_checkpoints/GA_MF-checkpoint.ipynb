{
 "cells": [
  {
   "cell_type": "markdown",
   "metadata": {},
   "source": [
    "### Genetic Algorithm"
   ]
  },
  {
   "cell_type": "code",
   "execution_count": 2,
   "metadata": {},
   "outputs": [],
   "source": [
    "import numpy as np\n",
    "import matplotlib.pyplot as plt\n",
    "import math\n",
    "import copy\n",
    "from mpl_toolkits import mplot3d"
   ]
  },
  {
   "cell_type": "code",
   "execution_count": 3,
   "metadata": {},
   "outputs": [],
   "source": [
    "ukuranpop = 20  #ukuran populasi\n",
    "gen =  16  #panjang satu populasi\n",
    "pcross = 0.5    #probabilitas pindah silang\n",
    "pmutasi = 0.5    #probabilitas mutasi"
   ]
  },
  {
   "cell_type": "markdown",
   "metadata": {},
   "source": [
    "**Inisiasi Populasi Awal**"
   ]
  },
  {
   "cell_type": "code",
   "execution_count": 4,
   "metadata": {},
   "outputs": [
    {
     "data": {
      "text/plain": [
       "[array([7, 6, 1, 3, 1, 8, 6, 7, 4, 0, 6, 0, 0, 3, 0, 6]),\n",
       " array([6, 0, 8, 4, 7, 4, 8, 1, 6, 6, 6, 7, 6, 1, 2, 4]),\n",
       " array([0, 4, 7, 2, 7, 4, 7, 4, 4, 6, 1, 1, 8, 6, 5, 8]),\n",
       " array([5, 7, 2, 5, 0, 2, 8, 7, 0, 2, 1, 2, 5, 1, 6, 5]),\n",
       " array([5, 1, 5, 4, 0, 2, 1, 4, 1, 8, 5, 5, 4, 5, 1, 0]),\n",
       " array([7, 8, 5, 7, 6, 7, 8, 6, 4, 1, 4, 2, 0, 1, 6, 6]),\n",
       " array([3, 1, 3, 7, 2, 5, 7, 8, 7, 5, 1, 7, 0, 6, 6, 2]),\n",
       " array([2, 6, 2, 3, 2, 1, 5, 2, 7, 3, 1, 4, 7, 5, 7, 5]),\n",
       " array([3, 0, 7, 2, 1, 1, 8, 1, 2, 5, 5, 1, 2, 5, 5, 2]),\n",
       " array([6, 4, 3, 8, 8, 0, 2, 1, 0, 8, 8, 5, 0, 2, 4, 8]),\n",
       " array([1, 6, 2, 4, 8, 5, 7, 1, 2, 5, 5, 4, 5, 3, 2, 1]),\n",
       " array([5, 3, 8, 7, 0, 7, 2, 2, 4, 1, 4, 5, 3, 2, 7, 3]),\n",
       " array([7, 5, 4, 3, 8, 5, 1, 4, 7, 6, 0, 4, 5, 1, 3, 8]),\n",
       " array([0, 6, 4, 7, 4, 7, 5, 5, 7, 6, 6, 4, 0, 8, 6, 6]),\n",
       " array([2, 0, 8, 3, 1, 4, 1, 4, 4, 3, 1, 3, 4, 1, 8, 7]),\n",
       " array([8, 8, 8, 4, 8, 0, 4, 0, 4, 4, 6, 6, 0, 5, 4, 0]),\n",
       " array([0, 0, 8, 3, 5, 5, 5, 5, 7, 7, 3, 2, 1, 1, 0, 3]),\n",
       " array([4, 4, 5, 6, 0, 7, 6, 6, 2, 7, 6, 6, 2, 4, 8, 0]),\n",
       " array([4, 4, 4, 2, 8, 0, 6, 0, 8, 4, 3, 4, 6, 5, 0, 4]),\n",
       " array([0, 5, 0, 8, 5, 0, 5, 0, 5, 7, 1, 3, 4, 4, 0, 4])]"
      ]
     },
     "execution_count": 4,
     "metadata": {},
     "output_type": "execute_result"
    }
   ],
   "source": [
    "def buat_populasi(ukuranpop, gen):\n",
    "    populasi = []\n",
    "    for i in range(ukuranpop):\n",
    "        populasi.append(np.random.randint(0,9,size = gen))\n",
    "    return populasi\n",
    "populasi = buat_populasi(ukuranpop,gen)\n",
    "populasi"
   ]
  },
  {
   "cell_type": "markdown",
   "metadata": {},
   "source": [
    "**Phenotype**\n",
    "\n",
    "(Decode)"
   ]
  },
  {
   "cell_type": "code",
   "execution_count": 5,
   "metadata": {},
   "outputs": [],
   "source": [
    "def phenotype(ind):\n",
    "    x_x1 = 0\n",
    "    d_x1 = 0\n",
    "    ba_x1 = 2\n",
    "    bb_x1 = -1\n",
    "\n",
    "    x_x2 = 0\n",
    "    d_x2 = 0\n",
    "    ba_x2 = 1\n",
    "    bb_x2 = -1\n",
    "\n",
    "    j = 1\n",
    "    k = 1\n",
    "    p = []\n",
    "\n",
    "    for i in range (len(ind)):\n",
    "        if (i < len(ind) / 2):\n",
    "            x_x1 += (ind[i] * (1 / np.power(10,j)))\n",
    "            d_x1 += (1 / np.power(2,j))\n",
    "            j+=1\n",
    "        else:\n",
    "            x_x2 += (ind[i] * (1 / np.power(10,k)))\n",
    "            d_x2 += (1/ np.power(2,k))\n",
    "            k+=1\n",
    "    x1 = bb_x1 + ((ba_x1 - bb_x1) * x_x1 / d_x1) #phenotype x1\n",
    "    x2 = bb_x2 + ((ba_x2 - bb_x2) * x_x2 / d_x2) #phenotype x2\n",
    "\n",
    "    p.append(x1)\n",
    "    p.append(x2)\n",
    "\n",
    "    return p"
   ]
  },
  {
   "cell_type": "markdown",
   "metadata": {},
   "source": [
    "** Hitung Fitness**\n",
    "\n",
    "<img src=\"https://drive.google.com/file/d/1yUSr_Otho8hHnEhd8KO5Z7Jm2fupJCyK/view?usp=sharing\" width=\"800\" height=\"200\">"
   ]
  },
  {
   "cell_type": "code",
   "execution_count": 6,
   "metadata": {},
   "outputs": [],
   "source": [
    "def fitness(ind):\n",
    "    a = 0.01\n",
    "    f = 1 / ( math.cos(math.radians(phenotype(ind)[0])) * math.sin(math.radians(phenotype(ind)[1])) - phenotype(ind)[0]/((phenotype(ind)[1])**2 + 1) + a )\n",
    "    return f"
   ]
  },
  {
   "cell_type": "markdown",
   "metadata": {},
   "source": [
    "**Total Fitness**"
   ]
  },
  {
   "cell_type": "code",
   "execution_count": 7,
   "metadata": {},
   "outputs": [],
   "source": [
    "def total_fitness(populasi):\n",
    "    total = 0\n",
    "    for i in range (len(populasi)):\n",
    "        total += fitness(populasi[i])\n",
    "    return total"
   ]
  },
  {
   "cell_type": "markdown",
   "metadata": {},
   "source": [
    "**Induvidu dengan Fitness terbesar**"
   ]
  },
  {
   "cell_type": "code",
   "execution_count": 8,
   "metadata": {},
   "outputs": [],
   "source": [
    "def max_fitness(populasi):\n",
    "    fit = []\n",
    "    max = 0\n",
    "    for i in range (len(populasi)) :\n",
    "        fit.append(fitness(populasi[i]))\n",
    "    for i in range(len(populasi)) :\n",
    "        if (max < fit[i]) :\n",
    "            max = fit [i]\n",
    "    idx = fit.index(max)\n",
    "    return populasi[idx]"
   ]
  },
  {
   "cell_type": "markdown",
   "metadata": {},
   "source": [
    "**Parent Selection**\n",
    "\n",
    "disini saya akan menggunakan Roulette Wheel Selection"
   ]
  },
  {
   "cell_type": "code",
   "execution_count": 9,
   "metadata": {},
   "outputs": [],
   "source": [
    "def RW(fitness, total_fitness):\n",
    "    return fitness / total_fitness\n",
    "\n",
    "def C_RW(populasi):\n",
    "    c = 0\n",
    "    ar_c = []\n",
    "    for i in range(len(populasi)):\n",
    "        c += RW(fitness(populasi[i]), total_fitness(populasi))\n",
    "        ar_c.append(c)\n",
    "    return ar_c"
   ]
  },
  {
   "cell_type": "code",
   "execution_count": 10,
   "metadata": {},
   "outputs": [],
   "source": [
    "def parent_selection(populasi):\n",
    "    parent = []\n",
    "    for i in range(len(populasi)):\n",
    "        found = 'false'\n",
    "        r = np.random.uniform(low = np.amin(C_RW(populasi)), high = np.amax(C_RW(populasi)))\n",
    "        j = 0\n",
    "        while ((found != 'true') and (j < len(populasi))) :\n",
    "            if (j == 0) :\n",
    "                if(r <= C_RW(populasi)[0]) :\n",
    "                    parent.append(populasi[0])\n",
    "                    found = 'true'\n",
    "            else :\n",
    "                if (r <= C_RW(populasi)[j] and r > C_RW(populasi)[j-1]) :\n",
    "                    parent.append(populasi[j])\n",
    "                    ketemu = 'true'\n",
    "            j += 1\n",
    "    return parent\n",
    "\n",
    "c_parent = np.copy(parent_selection(populasi))"
   ]
  },
  {
   "cell_type": "markdown",
   "metadata": {},
   "source": [
    "**Crossover**"
   ]
  },
  {
   "cell_type": "code",
   "execution_count": 11,
   "metadata": {},
   "outputs": [],
   "source": [
    "def crossover(ind1, ind2, pc):\n",
    "    anak = []\n",
    "    anak1 = []\n",
    "    anak2 = []\n",
    "    titik = np.random.randint(1,len(ind1) - 1)\n",
    "    p = np.random.uniform()\n",
    "    if (p >= pc):\n",
    "        for j in range(len(ind1)):\n",
    "            if (j < titik):\n",
    "                anak1.append(ind2[j])\n",
    "                anak2.append(ind1[j])\n",
    "            else:\n",
    "                anak1.append(ind1[j])\n",
    "                anak2.append(ind2[j])\n",
    "        anak.append(anak1)\n",
    "        anak.append(anak2)\n",
    "    else:\n",
    "        for j in range(len(ind1)):\n",
    "            anak1.append(ind1[j])\n",
    "            anak2.append(ind2[j])\n",
    "        anak.append(anak1)\n",
    "        anak.append(anak2)\n",
    "    return anak\n",
    "\n",
    "pos = 0 \n",
    "cross = []\n",
    "i = 0\n",
    "for i in range(ukuranpop//2):\n",
    "    cross.append(crossover(c_parent[pos], c_parent[pos+1], pcross)[0])\n",
    "    cross.append(crossover(c_parent[pos], c_parent[pos+1], pcross)[1])\n",
    "    pos +=2"
   ]
  },
  {
   "cell_type": "markdown",
   "metadata": {},
   "source": [
    "**Mutasi**"
   ]
  },
  {
   "cell_type": "code",
   "execution_count": 12,
   "metadata": {},
   "outputs": [],
   "source": [
    "def mutasi(cross, pm):\n",
    "    arr_mutasi = np.copy(cross)\n",
    "    for i in range(len(arr_mutasi)):\n",
    "        rdm = np.random.randint(0,9)\n",
    "        j = 0\n",
    "        p = np.random.uniform()\n",
    "        if (p >= pm):\n",
    "            for j in range(len(arr_mutasi[i])):\n",
    "                if (cross[i][j] == rdm): \n",
    "                    random = np.random.randint(0,9)\n",
    "                    arr_mutasi[i][j] = random\n",
    "    return arr_mutasi"
   ]
  },
  {
   "cell_type": "markdown",
   "metadata": {},
   "source": [
    "**Pergantian Mutasi**"
   ]
  },
  {
   "cell_type": "code",
   "execution_count": 13,
   "metadata": {},
   "outputs": [],
   "source": [
    "def replace(populasi, pm) :\n",
    "    new_pop = []\n",
    "    j = 0\n",
    "    while (j < len(populasi)) :\n",
    "        if (j == 0) :\n",
    "            new_pop.append(max_fitness(populasi))\n",
    "        else : \n",
    "            new_pop.append(mutasi(populasi,pm)[j])\n",
    "        j += 1\n",
    "    return new_pop"
   ]
  },
  {
   "cell_type": "markdown",
   "metadata": {},
   "source": [
    "***Main Program***"
   ]
  },
  {
   "cell_type": "code",
   "execution_count": 16,
   "metadata": {
    "tags": []
   },
   "outputs": [
    {
     "name": "stdout",
     "output_type": "stream",
     "text": [
      "Phenotype terbaik adalah  [-0.0016411105882349064, -0.4809051658039216]\n",
      "\n",
      "f(x1, x2) =  -0.007060419694164263\n"
     ]
    },
    {
     "data": {
      "image/png": "[encoded data removed]",
      "text/plain": [
       "<Figure size 432x288 with 1 Axes>"
      ]
     },
     "metadata": {
      "needs_background": "light"
     },
     "output_type": "display_data"
    }
   ],
   "source": [
    "generasi = 100\n",
    "first_gen = buat_populasi(ukuranpop, gen)\n",
    "\n",
    "fitness_plot = []\n",
    "\n",
    "for i in range(generasi):\n",
    "    new_gen = np.copy(replace(first_gen, pmutasi))\n",
    "    first_gen = np.copy(new_gen)\n",
    "    new_gen = np.copy(replace(first_gen, pmutasi))\n",
    "    fitness_plot.append(fitness(max_fitness(first_gen)))\n",
    "\n",
    "individu_hasil = max_fitness(first_gen)\n",
    "nilai_phenotype = phenotype(individu_hasil)\n",
    "x1 = nilai_phenotype[0]\n",
    "x2 = nilai_phenotype[1]\n",
    "print(\"Phenotype terbaik adalah \", nilai_phenotype)\n",
    "print()\n",
    "validate = math.cos(math.radians(x1)) * math.sin(math.radians(x2)) - x1/(x2**2 + 1)\n",
    "print(\"f(x1, x2) = \", validate)\n",
    "\n",
    "plt.plot(fitness_plot)\n",
    "plt.show()"
   ]
  },
  {
   "cell_type": "code",
   "execution_count": 17,
   "metadata": {},
   "outputs": [
    {
     "ename": "TypeError",
     "evalue": "only size-1 arrays can be converted to Python scalars",
     "output_type": "error",
     "traceback": [
      "\u001b[0;31m---------------------------------------------------------------------------\u001b[0m",
      "\u001b[0;31mTypeError\u001b[0m                                 Traceback (most recent call last)",
      "\u001b[0;32m<ipython-input-17-dcc31cf3937a>\u001b[0m in \u001b[0;36m<module>\u001b[0;34m\u001b[0m\n\u001b[1;32m      5\u001b[0m \u001b[0my\u001b[0m \u001b[0;34m=\u001b[0m \u001b[0mnp\u001b[0m\u001b[0;34m.\u001b[0m\u001b[0mlinspace\u001b[0m\u001b[0;34m(\u001b[0m\u001b[0;34m-\u001b[0m\u001b[0;36m5\u001b[0m\u001b[0;34m,\u001b[0m \u001b[0;36m5\u001b[0m\u001b[0;34m,\u001b[0m \u001b[0;36m50\u001b[0m\u001b[0;34m)\u001b[0m\u001b[0;34m\u001b[0m\u001b[0;34m\u001b[0m\u001b[0m\n\u001b[1;32m      6\u001b[0m \u001b[0mX\u001b[0m\u001b[0;34m,\u001b[0m \u001b[0mY\u001b[0m \u001b[0;34m=\u001b[0m \u001b[0mnp\u001b[0m\u001b[0;34m.\u001b[0m\u001b[0mmeshgrid\u001b[0m\u001b[0;34m(\u001b[0m\u001b[0mx\u001b[0m\u001b[0;34m,\u001b[0m \u001b[0my\u001b[0m\u001b[0;34m)\u001b[0m\u001b[0;34m\u001b[0m\u001b[0;34m\u001b[0m\u001b[0m\n\u001b[0;32m----> 7\u001b[0;31m \u001b[0mZ\u001b[0m \u001b[0;34m=\u001b[0m \u001b[0mf\u001b[0m\u001b[0;34m(\u001b[0m\u001b[0mX\u001b[0m\u001b[0;34m,\u001b[0m \u001b[0mY\u001b[0m\u001b[0;34m)\u001b[0m\u001b[0;34m\u001b[0m\u001b[0;34m\u001b[0m\u001b[0m\n\u001b[0m\u001b[1;32m      8\u001b[0m \u001b[0mfig\u001b[0m \u001b[0;34m=\u001b[0m \u001b[0mplt\u001b[0m\u001b[0;34m.\u001b[0m\u001b[0mfigure\u001b[0m\u001b[0;34m(\u001b[0m\u001b[0;34m)\u001b[0m\u001b[0;34m\u001b[0m\u001b[0;34m\u001b[0m\u001b[0m\n\u001b[1;32m      9\u001b[0m \u001b[0max\u001b[0m \u001b[0;34m=\u001b[0m \u001b[0mplt\u001b[0m\u001b[0;34m.\u001b[0m\u001b[0maxes\u001b[0m\u001b[0;34m(\u001b[0m\u001b[0mprojection\u001b[0m\u001b[0;34m=\u001b[0m\u001b[0;34m'3d'\u001b[0m\u001b[0;34m)\u001b[0m\u001b[0;34m\u001b[0m\u001b[0;34m\u001b[0m\u001b[0m\n",
      "\u001b[0;32m<ipython-input-17-dcc31cf3937a>\u001b[0m in \u001b[0;36mf\u001b[0;34m(x, y)\u001b[0m\n\u001b[1;32m      1\u001b[0m \u001b[0;32mdef\u001b[0m \u001b[0mf\u001b[0m\u001b[0;34m(\u001b[0m\u001b[0mx\u001b[0m\u001b[0;34m,\u001b[0m \u001b[0my\u001b[0m\u001b[0;34m)\u001b[0m\u001b[0;34m:\u001b[0m\u001b[0;34m\u001b[0m\u001b[0;34m\u001b[0m\u001b[0m\n\u001b[0;32m----> 2\u001b[0;31m     \u001b[0;32mreturn\u001b[0m \u001b[0mmath\u001b[0m\u001b[0;34m.\u001b[0m\u001b[0mcos\u001b[0m\u001b[0;34m(\u001b[0m\u001b[0mmath\u001b[0m\u001b[0;34m.\u001b[0m\u001b[0mradians\u001b[0m\u001b[0;34m(\u001b[0m\u001b[0mx\u001b[0m\u001b[0;34m)\u001b[0m\u001b[0;34m)\u001b[0m \u001b[0;34m*\u001b[0m \u001b[0mmath\u001b[0m\u001b[0;34m.\u001b[0m\u001b[0msin\u001b[0m\u001b[0;34m(\u001b[0m\u001b[0mmath\u001b[0m\u001b[0;34m.\u001b[0m\u001b[0mradians\u001b[0m\u001b[0;34m(\u001b[0m\u001b[0my\u001b[0m\u001b[0;34m)\u001b[0m\u001b[0;34m)\u001b[0m \u001b[0;34m-\u001b[0m \u001b[0mx\u001b[0m\u001b[0;34m/\u001b[0m\u001b[0;34m(\u001b[0m\u001b[0my\u001b[0m\u001b[0;34m**\u001b[0m\u001b[0;36m2\u001b[0m \u001b[0;34m+\u001b[0m \u001b[0;36m1\u001b[0m\u001b[0;34m)\u001b[0m\u001b[0;34m\u001b[0m\u001b[0;34m\u001b[0m\u001b[0m\n\u001b[0m\u001b[1;32m      3\u001b[0m \u001b[0;34m\u001b[0m\u001b[0m\n\u001b[1;32m      4\u001b[0m \u001b[0mx\u001b[0m \u001b[0;34m=\u001b[0m \u001b[0mnp\u001b[0m\u001b[0;34m.\u001b[0m\u001b[0mlinspace\u001b[0m\u001b[0;34m(\u001b[0m\u001b[0;34m-\u001b[0m\u001b[0;36m5\u001b[0m\u001b[0;34m,\u001b[0m \u001b[0;36m5\u001b[0m\u001b[0;34m,\u001b[0m \u001b[0;36m50\u001b[0m\u001b[0;34m)\u001b[0m\u001b[0;34m\u001b[0m\u001b[0;34m\u001b[0m\u001b[0m\n\u001b[1;32m      5\u001b[0m \u001b[0my\u001b[0m \u001b[0;34m=\u001b[0m \u001b[0mnp\u001b[0m\u001b[0;34m.\u001b[0m\u001b[0mlinspace\u001b[0m\u001b[0;34m(\u001b[0m\u001b[0;34m-\u001b[0m\u001b[0;36m5\u001b[0m\u001b[0;34m,\u001b[0m \u001b[0;36m5\u001b[0m\u001b[0;34m,\u001b[0m \u001b[0;36m50\u001b[0m\u001b[0;34m)\u001b[0m\u001b[0;34m\u001b[0m\u001b[0;34m\u001b[0m\u001b[0m\n",
      "\u001b[0;31mTypeError\u001b[0m: only size-1 arrays can be converted to Python scalars"
     ]
    }
   ],
   "source": [
    "def f(x, y):\n",
    "    return math.cos(math.radians(x)) * math.sin(math.radians(y)) - x/(y**2 + 1)\n",
    "  \n",
    "x = np.linspace(-5, 5, 50)\n",
    "y = np.linspace(-5, 5, 50)\n",
    "X, Y = np.meshgrid(x, y)\n",
    "Z = f(X, Y)\n",
    "fig = plt.figure()\n",
    "ax = plt.axes(projection='3d')\n",
    "ax.contour3D(X, Y, Z, 1000, cmap='binary')\n",
    "ax.set_xlabel('x')\n",
    "ax.set_ylabel('y')\n",
    "ax.set_zlabel('z');"
   ]
  },
  {
   "cell_type": "code",
   "execution_count": null,
   "metadata": {},
   "outputs": [],
   "source": []
  }
 ],
 "metadata": {
  "kernelspec": {
   "display_name": "Python 3",
   "language": "python",
   "name": "python3"
  },
  "language_info": {
   "codemirror_mode": {
    "name": "ipython",
    "version": 3
   },
   "file_extension": ".py",
   "mimetype": "text/x-python",
   "name": "python",
   "nbconvert_exporter": "python",
   "pygments_lexer": "ipython3",
   "version": "3.7.4"
  }
 },
 "nbformat": 4,
 "nbformat_minor": 2
}
